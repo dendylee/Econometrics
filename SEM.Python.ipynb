{
 "cells": [
  {
   "cell_type": "markdown",
   "id": "f614af2d-6f5f-4d0b-8bad-6f6bcaa4495b",
   "metadata": {},
   "source": [
    "# SEM Quick Start"
   ]
  },
  {
   "cell_type": "code",
   "execution_count": 1,
   "id": "6907a8fa-ce07-4428-af0f-0c16d833d466",
   "metadata": {},
   "outputs": [],
   "source": [
    "import semopy"
   ]
  },
  {
   "cell_type": "code",
   "execution_count": 2,
   "id": "84d8cd17-7df5-4cab-9747-d63baf4018b4",
   "metadata": {},
   "outputs": [
    {
     "name": "stdout",
     "output_type": "stream",
     "text": [
      "# measurement model\n",
      "ind60 =~ x1 + x2 + x3\n",
      "dem60 =~ y1 + y2 + y3 + y4\n",
      "dem65 =~ y5 + y6 + y7 + y8\n",
      "# regressions\n",
      "dem60 ~ ind60\n",
      "dem65 ~ ind60 + dem60\n",
      "# residual correlations\n",
      "y1 ~~ y5\n",
      "y2 ~~ y4 + y6\n",
      "y3 ~~ y7\n",
      "y4 ~~ y8\n",
      "y6 ~~ y8\n"
     ]
    }
   ],
   "source": [
    "import semopy\n",
    "import pandas as pd\n",
    "desc = semopy.examples.political_democracy.get_model()\n",
    "print(desc)"
   ]
  },
  {
   "cell_type": "code",
   "execution_count": 3,
   "id": "900fe91c-eb86-4132-b984-79fa9c0cebe3",
   "metadata": {},
   "outputs": [
    {
     "name": "stdout",
     "output_type": "stream",
     "text": [
      "      y1        y2        y3        y4        y5        y6        y7  \\\n",
      "1   2.50  0.000000  3.333333  0.000000  1.250000  0.000000  3.726360   \n",
      "2   1.25  0.000000  3.333333  0.000000  6.250000  1.100000  6.666666   \n",
      "3   7.50  8.800000  9.999998  9.199991  8.750000  8.094061  9.999998   \n",
      "4   8.90  8.800000  9.999998  9.199991  8.907948  8.127979  9.999998   \n",
      "5  10.00  3.333333  9.999998  6.666666  7.500000  3.333333  9.999998   \n",
      "\n",
      "         y8        x1        x2        x3  \n",
      "1  3.333333  4.442651  3.637586  2.557615  \n",
      "2  0.736999  5.384495  5.062595  3.568079  \n",
      "3  8.211809  5.961005  6.255750  5.224433  \n",
      "4  4.615086  6.285998  7.567863  6.267495  \n",
      "5  6.666666  5.863631  6.818924  4.573679  \n"
     ]
    }
   ],
   "source": [
    "data = semopy.examples.political_democracy.get_data()\n",
    "print(data.head())"
   ]
  },
  {
   "cell_type": "code",
   "execution_count": 4,
   "id": "b03392f3-5648-4d2d-9309-8163ed5e5de8",
   "metadata": {},
   "outputs": [
    {
     "name": "stdout",
     "output_type": "stream",
     "text": [
      "Name of objective: MLW\n",
      "Optimization method: SLSQP\n",
      "Optimization successful.\n",
      "Optimization terminated successfully\n",
      "Objective value: 0.508\n",
      "Number of iterations: 52\n",
      "Params: 2.180 1.819 1.257 1.058 1.265 1.186 1.280 1.266 1.482 0.572 0.838 0.624 1.893 1.320 2.156 7.385 0.793 5.067 0.347 3.148 1.357 4.954 0.172 0.082 2.352 3.430 0.120 0.467 3.256 3.951 0.448\n"
     ]
    }
   ],
   "source": [
    "mod = semopy.Model(desc)\n",
    "res = mod.fit(data)\n",
    "print(res)"
   ]
  },
  {
   "cell_type": "code",
   "execution_count": 5,
   "id": "62475d64-1100-40fa-86f3-caf5019a2749",
   "metadata": {},
   "outputs": [
    {
     "name": "stdout",
     "output_type": "stream",
     "text": [
      "     lval  op   rval  Estimate  Std. Err    z-value   p-value\n",
      "0   dem60   ~  ind60  1.482379  0.399024   3.715017  0.000203\n",
      "1   dem65   ~  ind60  0.571912  0.221383   2.583364  0.009784\n",
      "2   dem65   ~  dem60  0.837574  0.098446   8.507992       0.0\n",
      "3      x1   ~  ind60  1.000000         -          -         -\n",
      "4      x2   ~  ind60  2.180494  0.138565  15.736254       0.0\n",
      "5      x3   ~  ind60  1.818546  0.151993   11.96465       0.0\n",
      "6      y1   ~  dem60  1.000000         -          -         -\n",
      "7      y2   ~  dem60  1.256819  0.182687   6.879647       0.0\n",
      "8      y3   ~  dem60  1.058174  0.151521   6.983699       0.0\n",
      "9      y4   ~  dem60  1.265186  0.145151   8.716344       0.0\n",
      "10     y5   ~  dem65  1.000000         -          -         -\n",
      "11     y6   ~  dem65  1.185743  0.168908   7.020032       0.0\n",
      "12     y7   ~  dem65  1.279717  0.159996    7.99841       0.0\n",
      "13     y8   ~  dem65  1.266084  0.158238   8.001141       0.0\n",
      "14  dem65  ~~  dem65  0.172210  0.214861   0.801494  0.422846\n",
      "15  dem60  ~~  dem60  3.950849  0.920451   4.292296  0.000018\n",
      "16  ind60  ~~  ind60  0.448321  0.086677   5.172345       0.0\n",
      "17     y1  ~~     y5  0.624423  0.358435   1.742083  0.081494\n",
      "18     y1  ~~     y1  1.892743   0.44456   4.257565  0.000021\n",
      "19     y2  ~~     y4  1.319589   0.70268   1.877937   0.06039\n",
      "20     y2  ~~     y6  2.156164  0.734155   2.936934  0.003315\n",
      "21     y2  ~~     y2  7.385292  1.375671   5.368501       0.0\n",
      "22     y3  ~~     y7  0.793329  0.607642   1.305585  0.191694\n",
      "23     y3  ~~     y3  5.066628  0.951722   5.323646       0.0\n",
      "24     y4  ~~     y8  0.347222  0.442234   0.785154  0.432363\n",
      "25     y4  ~~     y4  3.147911  0.738841   4.260605   0.00002\n",
      "26     y6  ~~     y8  1.357037    0.5685   2.387047  0.016984\n",
      "27     y6  ~~     y6  4.954364  0.914284   5.418843       0.0\n",
      "28     x1  ~~     x1  0.081573  0.019495   4.184317  0.000029\n",
      "29     y5  ~~     y5  2.351910  0.480369   4.896044  0.000001\n",
      "30     y7  ~~     y7  3.430032  0.712732   4.812512  0.000001\n",
      "31     x2  ~~     x2  0.119894  0.069747   1.718973  0.085619\n",
      "32     x3  ~~     x3  0.466732  0.090168   5.176276       0.0\n",
      "33     y8  ~~     y8  3.256389   0.69504   4.685182  0.000003\n"
     ]
    }
   ],
   "source": [
    "ins = mod.inspect()\n",
    "print(ins)"
   ]
  },
  {
   "cell_type": "markdown",
   "id": "cf11941b-16eb-4797-a688-99836029aac8",
   "metadata": {},
   "source": [
    "# Model Class"
   ]
  },
  {
   "cell_type": "code",
   "execution_count": 6,
   "id": "15af7a98-ade7-4023-a2b5-32b3d3c209a1",
   "metadata": {},
   "outputs": [],
   "source": [
    "from semopy import Model\n",
    "model = Model(desc)\n",
    "opt_res = model.fit(data)\n",
    "estimates = model.inspect()"
   ]
  },
  {
   "cell_type": "markdown",
   "id": "478e0079-d83d-4181-8bf7-3d2fc996ef5f",
   "metadata": {},
   "source": [
    "# Displaying results"
   ]
  },
  {
   "cell_type": "code",
   "execution_count": 7,
   "id": "9eec7075-11f4-42c9-a7ce-71cff40dbaf5",
   "metadata": {},
   "outputs": [
    {
     "name": "stdout",
     "output_type": "stream",
     "text": [
      "y ~ x\n"
     ]
    }
   ],
   "source": [
    "# Built-in examples\n",
    "# Univariate regression\n",
    "\n",
    "from semopy import Model\n",
    "from semopy.examples import univariate_regression\n",
    "\n",
    "desc = univariate_regression.get_model()\n",
    "data = univariate_regression.get_data()\n",
    "print(desc)"
   ]
  },
  {
   "cell_type": "code",
   "execution_count": 13,
   "id": "61aa10a2-93c6-4725-8058-41bf24ebea70",
   "metadata": {},
   "outputs": [
    {
     "name": "stdout",
     "output_type": "stream",
     "text": [
      "Name of objective: MLW\n",
      "Optimization method: SLSQP\n",
      "Optimization successful.\n",
      "Optimization terminated successfully\n",
      "Objective value: 0.000\n",
      "Number of iterations: 11\n",
      "Params: -1.221 0.670\n"
     ]
    }
   ],
   "source": [
    "# Fit model to data:\n",
    "mod = Model(desc)\n",
    "res_opt = mod.fit(data)\n",
    "estimates = mod.inspect()\n",
    "print(res_opt)"
   ]
  },
  {
   "cell_type": "code",
   "execution_count": 15,
   "id": "a650e551-25c4-4d8c-acc5-5396e7bb37e8",
   "metadata": {},
   "outputs": [
    {
     "name": "stdout",
     "output_type": "stream",
     "text": [
      "  lval  op rval  Estimate  Std. Err    z-value       p-value\n",
      "0    y   ~    x -1.221069  0.083165 -14.682538  0.000000e+00\n",
      "1    y  ~~    y  0.670367  0.094804   7.071068  1.537437e-12\n"
     ]
    }
   ],
   "source": [
    "# Printing parameter estimates by print(estimates):\\\n",
    "print(estimates)"
   ]
  },
  {
   "cell_type": "markdown",
   "id": "785fb308-0c23-4aca-b0ca-83adce395661",
   "metadata": {},
   "source": [
    "# Univariate regression with multiple regressors"
   ]
  },
  {
   "cell_type": "code",
   "execution_count": 16,
   "id": "01b8e1bb-230b-4f8a-bbc7-9dcf13926ac5",
   "metadata": {},
   "outputs": [
    {
     "name": "stdout",
     "output_type": "stream",
     "text": [
      "y ~ x1 + x2 + x3\n"
     ]
    }
   ],
   "source": [
    "# import model description and data:\n",
    "from semopy import Model\n",
    "from semopy.examples import univariate_regression_many\n",
    "\n",
    "desc = univariate_regression_many.get_model()\n",
    "data = univariate_regression_many.get_data()\n",
    "print(desc)"
   ]
  },
  {
   "cell_type": "code",
   "execution_count": 17,
   "id": "82033465-10c5-47ae-9d72-39a82ec1ef96",
   "metadata": {},
   "outputs": [],
   "source": [
    "# Fit model to data:\n",
    "mod = Model(desc)\n",
    "res_opt = mod.fit(data)\n",
    "estimates = mod.inspect()"
   ]
  },
  {
   "cell_type": "code",
   "execution_count": 18,
   "id": "12c32920-ba92-46e3-8820-ae4001db3163",
   "metadata": {},
   "outputs": [
    {
     "name": "stdout",
     "output_type": "stream",
     "text": [
      "Name of objective: MLW\n",
      "Optimization method: SLSQP\n",
      "Optimization successful.\n",
      "Optimization terminated successfully\n",
      "Objective value: 0.000\n",
      "Number of iterations: 13\n",
      "Params: 1.400 0.451 1.190 0.878\n"
     ]
    }
   ],
   "source": [
    "# Inspecting optimization information by print(res_opt):\n",
    "print(res_opt)"
   ]
  },
  {
   "cell_type": "code",
   "execution_count": 19,
   "id": "d3d6a221-1be5-432e-868c-f8de9a4fb089",
   "metadata": {},
   "outputs": [
    {
     "name": "stdout",
     "output_type": "stream",
     "text": [
      "  lval  op rval  Estimate  Std. Err    z-value       p-value\n",
      "0    y   ~   x1  1.399551  0.091138  15.356385  0.000000e+00\n",
      "1    y   ~   x2  0.450561  0.097883   4.603051  4.163465e-06\n",
      "2    y   ~   x3  1.190470  0.086499  13.762839  0.000000e+00\n",
      "3    y  ~~    y  0.878486  0.124237   7.071068  1.537437e-12\n"
     ]
    }
   ],
   "source": [
    "# Printing parameter estimates by print(estimates):\n",
    "print(estimates)"
   ]
  },
  {
   "cell_type": "markdown",
   "id": "31975685-b990-4ab6-9da4-1206bf605b1e",
   "metadata": {},
   "source": [
    "# Multivariate regression"
   ]
  },
  {
   "cell_type": "code",
   "execution_count": 20,
   "id": "3e3df297-ea55-4116-8127-4fb2eb123a9e",
   "metadata": {},
   "outputs": [
    {
     "name": "stdout",
     "output_type": "stream",
     "text": [
      "y1, y2, y3 ~ x1 + x2 + x3\n"
     ]
    }
   ],
   "source": [
    "# Import model description and data:\n",
    "from semopy import Model\n",
    "from semopy.examples import multivariate_regression\n",
    "\n",
    "desc = multivariate_regression.get_model()\n",
    "data = multivariate_regression.get_data()\n",
    "print(desc)"
   ]
  },
  {
   "cell_type": "code",
   "execution_count": 21,
   "id": "b95fe4a8-c0cb-4e1c-839d-c2066f588b50",
   "metadata": {},
   "outputs": [],
   "source": [
    "# Fit model to data:\n",
    "mod = Model(desc)\n",
    "res_opt = mod.fit(data)\n",
    "estimates = mod.inspect()"
   ]
  },
  {
   "cell_type": "code",
   "execution_count": 22,
   "id": "68c108e9-4c34-4a9a-affc-6a1479ef3fd6",
   "metadata": {},
   "outputs": [
    {
     "name": "stdout",
     "output_type": "stream",
     "text": [
      "Name of objective: MLW\n",
      "Optimization method: SLSQP\n",
      "Optimization successful.\n",
      "Optimization terminated successfully\n",
      "Objective value: 0.068\n",
      "Number of iterations: 17\n",
      "Params: -1.390 -1.138 -0.318 -0.746 1.074 -1.131 0.703 1.235 -0.920 0.489 1.136 0.638\n"
     ]
    }
   ],
   "source": [
    "# Inspecting optimization information by print(res_opt):\n",
    "print(res_opt)"
   ]
  },
  {
   "cell_type": "code",
   "execution_count": 23,
   "id": "1971b879-754f-470b-a5b1-1465bf5c8279",
   "metadata": {},
   "outputs": [
    {
     "name": "stdout",
     "output_type": "stream",
     "text": [
      "   lval  op rval  Estimate  Std. Err    z-value       p-value\n",
      "0    y1   ~   x1 -1.389754  0.073417 -18.929470  0.000000e+00\n",
      "1    y1   ~   x2 -1.138405  0.087966 -12.941462  0.000000e+00\n",
      "2    y1   ~   x3 -0.317893  0.072576  -4.380132  1.186073e-05\n",
      "3    y2   ~   x1 -0.745837  0.097974  -7.612623  2.686740e-14\n",
      "4    y2   ~   x2  1.074436  0.117388   9.152855  0.000000e+00\n",
      "5    y2   ~   x3 -1.130890  0.096851 -11.676597  0.000000e+00\n",
      "6    y3   ~   x1  0.702778  0.064270  10.934755  0.000000e+00\n",
      "7    y3   ~   x2  1.235044  0.077006  16.038334  0.000000e+00\n",
      "8    y3   ~   x3 -0.920469  0.063534 -14.487925  0.000000e+00\n",
      "9    y3  ~~   y3  0.488735  0.069118   7.071068  1.537437e-12\n",
      "10   y2  ~~   y2  1.135729  0.160616   7.071068  1.537437e-12\n",
      "11   y1  ~~   y1  0.637755  0.090192   7.071068  1.537437e-12\n"
     ]
    }
   ],
   "source": [
    "# Printing parameter estimates by print(estimates):\n",
    "print(estimates)"
   ]
  },
  {
   "cell_type": "markdown",
   "id": "796bac1c-15af-4a48-9773-e3eddeadc881",
   "metadata": {},
   "source": [
    "# A classic Hozlinger-Swineford dataset and CFA model."
   ]
  },
  {
   "cell_type": "code",
   "execution_count": 24,
   "id": "710b9a6d-1bd7-4338-8400-75bd8e85065c",
   "metadata": {},
   "outputs": [
    {
     "name": "stdout",
     "output_type": "stream",
     "text": [
      "visual =~ x1 + x2 + x3\n",
      "textual =~ x4 + x5 + x6\n",
      "speed =~ x7 + x8 + x9\n"
     ]
    }
   ],
   "source": [
    "# Import model description and data:\n",
    "from semopy import Model\n",
    "from semopy.examples import holzinger39\n",
    "\n",
    "desc = holzinger39.get_model()\n",
    "data = holzinger39.get_data()\n",
    "print(desc)"
   ]
  },
  {
   "cell_type": "code",
   "execution_count": 25,
   "id": "51360d3d-fbbd-4eb2-87a3-5ebf7302f137",
   "metadata": {},
   "outputs": [],
   "source": [
    "# Fit model to data:\n",
    "mod = Model(desc)\n",
    "res_opt = mod.fit(data)\n",
    "estimates = mod.inspect()"
   ]
  },
  {
   "cell_type": "code",
   "execution_count": 26,
   "id": "e92e1b99-b034-4244-b80f-a77873c64fdf",
   "metadata": {},
   "outputs": [
    {
     "name": "stdout",
     "output_type": "stream",
     "text": [
      "Name of objective: MLW\n",
      "Optimization method: SLSQP\n",
      "Optimization successful.\n",
      "Optimization terminated successfully\n",
      "Objective value: 0.283\n",
      "Number of iterations: 28\n",
      "Params: 0.554 0.731 1.113 0.926 1.180 1.083 0.550 0.356 0.800 0.488 1.133 0.844 0.446 0.566 0.371 0.383 0.262 0.174 0.808 0.408 0.980\n"
     ]
    }
   ],
   "source": [
    "# Inspecting optimization information by print(res_opt):\n",
    "print(res_opt)"
   ]
  },
  {
   "cell_type": "code",
   "execution_count": 27,
   "id": "25affb8e-4a7c-4832-a783-52a3658aa3fc",
   "metadata": {},
   "outputs": [
    {
     "name": "stdout",
     "output_type": "stream",
     "text": [
      "       lval  op     rval  Estimate  Std. Err    z-value   p-value\n",
      "0        x1   ~   visual  1.000000         -          -         -\n",
      "1        x2   ~   visual  0.554421  0.099727   5.559413       0.0\n",
      "2        x3   ~   visual  0.730526   0.10918   6.691009       0.0\n",
      "3        x4   ~  textual  1.000000         -          -         -\n",
      "4        x5   ~  textual  1.113076  0.065392  17.021522       0.0\n",
      "5        x6   ~  textual  0.926120  0.055425  16.709493       0.0\n",
      "6        x7   ~    speed  1.000000         -          -         -\n",
      "7        x8   ~    speed  1.179980  0.165045   7.149459       0.0\n",
      "8        x9   ~    speed  1.082517  0.151354   7.152197       0.0\n",
      "9     speed  ~~    speed  0.383377  0.086171   4.449045  0.000009\n",
      "10    speed  ~~   visual  0.262135  0.056252   4.659977  0.000003\n",
      "11    speed  ~~  textual  0.173603  0.049316   3.520223  0.000431\n",
      "12   visual  ~~   visual  0.808310  0.145287   5.563548       0.0\n",
      "13   visual  ~~  textual  0.408277  0.073527    5.55273       0.0\n",
      "14  textual  ~~  textual  0.980034  0.112145   8.739002       0.0\n",
      "15       x1  ~~       x1  0.550161  0.113439    4.84983  0.000001\n",
      "16       x6  ~~       x6  0.356171   0.04303   8.277334       0.0\n",
      "17       x7  ~~       x7  0.799708  0.081387   9.825966       0.0\n",
      "18       x8  ~~       x8  0.487934  0.074167   6.578856       0.0\n",
      "19       x2  ~~       x2  1.133391  0.101711  11.143202       0.0\n",
      "20       x3  ~~       x3  0.843731  0.090625    9.31016       0.0\n",
      "21       x5  ~~       x5  0.446208  0.058387   7.642264       0.0\n",
      "22       x9  ~~       x9  0.565804  0.070757   7.996483       0.0\n",
      "23       x4  ~~       x4  0.371117  0.047712   7.778264       0.0\n"
     ]
    }
   ],
   "source": [
    "# Printing parameter estimates by print(estimates):\n",
    "print(estimates)"
   ]
  },
  {
   "cell_type": "markdown",
   "id": "fae8de1e-86ab-49b8-99a6-aa84e7ce8232",
   "metadata": {},
   "source": [
    "# Bollen's Data on Industrialization and Political Democracy is a common benchmark amongst SEM tools."
   ]
  },
  {
   "cell_type": "code",
   "execution_count": 28,
   "id": "baf3f1d9-37b7-48c8-a618-48fe2edde701",
   "metadata": {},
   "outputs": [
    {
     "name": "stdout",
     "output_type": "stream",
     "text": [
      "# measurement model\n",
      "ind60 =~ x1 + x2 + x3\n",
      "dem60 =~ y1 + y2 + y3 + y4\n",
      "dem65 =~ y5 + y6 + y7 + y8\n",
      "# regressions\n",
      "dem60 ~ ind60\n",
      "dem65 ~ ind60 + dem60\n",
      "# residual correlations\n",
      "y1 ~~ y5\n",
      "y2 ~~ y4 + y6\n",
      "y3 ~~ y7\n",
      "y4 ~~ y8\n",
      "y6 ~~ y8\n"
     ]
    }
   ],
   "source": [
    "# Import model description and data:\n",
    "from semopy import Model\n",
    "from semopy.examples import political_democracy\n",
    "\n",
    "desc = political_democracy.get_model()\n",
    "data = political_democracy.get_data()\n",
    "print(desc)"
   ]
  },
  {
   "cell_type": "code",
   "execution_count": 29,
   "id": "92316638-825d-4eaa-b8e4-7bace557c128",
   "metadata": {},
   "outputs": [],
   "source": [
    "# Fit model to data:\n",
    "mod = Model(desc)\n",
    "res_opt = mod.fit(data)\n",
    "estimates = mod.inspect()"
   ]
  },
  {
   "cell_type": "code",
   "execution_count": 30,
   "id": "4c7024d9-8fbe-4e79-b00c-512f848e4eed",
   "metadata": {},
   "outputs": [
    {
     "name": "stdout",
     "output_type": "stream",
     "text": [
      "Name of objective: MLW\n",
      "Optimization method: SLSQP\n",
      "Optimization successful.\n",
      "Optimization terminated successfully\n",
      "Objective value: 0.508\n",
      "Number of iterations: 52\n",
      "Params: 2.180 1.819 1.257 1.058 1.265 1.186 1.280 1.266 1.482 0.572 0.838 0.624 1.893 1.320 2.156 7.385 0.793 5.067 0.347 3.148 1.357 4.954 0.172 0.082 2.352 3.430 0.120 0.467 3.256 3.951 0.448\n"
     ]
    }
   ],
   "source": [
    "# Inspecting optimization information by print(res_opt):\n",
    "print(res_opt)"
   ]
  },
  {
   "cell_type": "code",
   "execution_count": 31,
   "id": "9adee6eb-db47-4e7c-9e97-389c20c2d4ab",
   "metadata": {},
   "outputs": [
    {
     "name": "stdout",
     "output_type": "stream",
     "text": [
      "     lval  op   rval  Estimate  Std. Err    z-value   p-value\n",
      "0   dem60   ~  ind60  1.482379  0.399024   3.715017  0.000203\n",
      "1   dem65   ~  ind60  0.571912  0.221383   2.583364  0.009784\n",
      "2   dem65   ~  dem60  0.837574  0.098446   8.507992       0.0\n",
      "3      x1   ~  ind60  1.000000         -          -         -\n",
      "4      x2   ~  ind60  2.180494  0.138565  15.736254       0.0\n",
      "5      x3   ~  ind60  1.818546  0.151993   11.96465       0.0\n",
      "6      y1   ~  dem60  1.000000         -          -         -\n",
      "7      y2   ~  dem60  1.256819  0.182687   6.879647       0.0\n",
      "8      y3   ~  dem60  1.058174  0.151521   6.983699       0.0\n",
      "9      y4   ~  dem60  1.265186  0.145151   8.716344       0.0\n",
      "10     y5   ~  dem65  1.000000         -          -         -\n",
      "11     y6   ~  dem65  1.185743  0.168908   7.020032       0.0\n",
      "12     y7   ~  dem65  1.279717  0.159996    7.99841       0.0\n",
      "13     y8   ~  dem65  1.266084  0.158238   8.001141       0.0\n",
      "14  dem65  ~~  dem65  0.172210  0.214861   0.801494  0.422846\n",
      "15  dem60  ~~  dem60  3.950849  0.920451   4.292296  0.000018\n",
      "16  ind60  ~~  ind60  0.448321  0.086677   5.172345       0.0\n",
      "17     y1  ~~     y5  0.624423  0.358435   1.742083  0.081494\n",
      "18     y1  ~~     y1  1.892743   0.44456   4.257565  0.000021\n",
      "19     y2  ~~     y4  1.319589   0.70268   1.877937   0.06039\n",
      "20     y2  ~~     y6  2.156164  0.734155   2.936934  0.003315\n",
      "21     y2  ~~     y2  7.385292  1.375671   5.368501       0.0\n",
      "22     y3  ~~     y7  0.793329  0.607642   1.305585  0.191694\n",
      "23     y3  ~~     y3  5.066628  0.951722   5.323646       0.0\n",
      "24     y4  ~~     y8  0.347222  0.442234   0.785154  0.432363\n",
      "25     y4  ~~     y4  3.147911  0.738841   4.260605   0.00002\n",
      "26     y6  ~~     y8  1.357037    0.5685   2.387047  0.016984\n",
      "27     y6  ~~     y6  4.954364  0.914284   5.418843       0.0\n",
      "28     x1  ~~     x1  0.081573  0.019495   4.184317  0.000029\n",
      "29     y5  ~~     y5  2.351910  0.480369   4.896044  0.000001\n",
      "30     y7  ~~     y7  3.430032  0.712732   4.812512  0.000001\n",
      "31     x2  ~~     x2  0.119894  0.069747   1.718973  0.085619\n",
      "32     x3  ~~     x3  0.466732  0.090168   5.176276       0.0\n",
      "33     y8  ~~     y8  3.256389   0.69504   4.685182  0.000003\n"
     ]
    }
   ],
   "source": [
    "# Printing parameter estimates by print(estimates):\n",
    "print(estimates)"
   ]
  },
  {
   "cell_type": "markdown",
   "id": "78435066-3b0b-495a-b21b-76d0b5494c87",
   "metadata": {},
   "source": [
    "# SEM example model"
   ]
  },
  {
   "cell_type": "code",
   "execution_count": 51,
   "id": "f2c322f8-0f60-4390-9bdd-f77db099307f",
   "metadata": {
    "collapsed": true,
    "jupyter": {
     "outputs_hidden": true
    },
    "tags": []
   },
   "outputs": [
    {
     "ename": "ImportError",
     "evalue": "cannot import name 'example_model' from 'semopy.examples' (C:\\Users\\SAMUEL\\anaconda3\\lib\\site-packages\\semopy\\examples\\__init__.py)",
     "output_type": "error",
     "traceback": [
      "\u001b[1;31m---------------------------------------------------------------------------\u001b[0m",
      "\u001b[1;31mImportError\u001b[0m                               Traceback (most recent call last)",
      "\u001b[1;32m<ipython-input-51-3096d168c3ad>\u001b[0m in \u001b[0;36m<module>\u001b[1;34m\u001b[0m\n\u001b[0;32m      1\u001b[0m \u001b[1;31m# Import model description and data:\u001b[0m\u001b[1;33m\u001b[0m\u001b[1;33m\u001b[0m\u001b[1;33m\u001b[0m\u001b[0m\n\u001b[0;32m      2\u001b[0m \u001b[1;32mfrom\u001b[0m \u001b[0msemopy\u001b[0m \u001b[1;32mimport\u001b[0m \u001b[0mmodel\u001b[0m\u001b[1;33m\u001b[0m\u001b[1;33m\u001b[0m\u001b[0m\n\u001b[1;32m----> 3\u001b[1;33m \u001b[1;32mfrom\u001b[0m \u001b[0msemopy\u001b[0m\u001b[1;33m.\u001b[0m\u001b[0mexamples\u001b[0m \u001b[1;32mimport\u001b[0m \u001b[0mexample_model\u001b[0m\u001b[1;33m\u001b[0m\u001b[1;33m\u001b[0m\u001b[0m\n\u001b[0m\u001b[0;32m      4\u001b[0m \u001b[1;33m\u001b[0m\u001b[0m\n\u001b[0;32m      5\u001b[0m \u001b[0mdesc\u001b[0m \u001b[1;33m=\u001b[0m \u001b[0mexamples_model\u001b[0m\u001b[1;33m.\u001b[0m\u001b[0mget_model\u001b[0m\u001b[1;33m(\u001b[0m\u001b[1;33m)\u001b[0m\u001b[1;33m\u001b[0m\u001b[1;33m\u001b[0m\u001b[0m\n",
      "\u001b[1;31mImportError\u001b[0m: cannot import name 'example_model' from 'semopy.examples' (C:\\Users\\SAMUEL\\anaconda3\\lib\\site-packages\\semopy\\examples\\__init__.py)"
     ]
    }
   ],
   "source": [
    "# Import model description and data:\n",
    "from semopy import model\n",
    "from semopy.examples import example_model\n",
    "\n",
    "desc = examples_model.get_model()\n",
    "data = examples_model.get_data()"
   ]
  },
  {
   "cell_type": "code",
   "execution_count": 48,
   "id": "8d28c30b-9489-44c5-8d6e-50ca1aecb112",
   "metadata": {},
   "outputs": [],
   "source": [
    "# Fit model to data:\n",
    "mod = Model(desc)\n",
    "res_opt = mod.fit(data)\n",
    "estimates = mod.inspect()"
   ]
  },
  {
   "cell_type": "code",
   "execution_count": 49,
   "id": "a1bc8942-ecdc-433a-b064-0134963a2ddf",
   "metadata": {},
   "outputs": [
    {
     "name": "stdout",
     "output_type": "stream",
     "text": [
      "Name of objective: MLW\n",
      "Optimization method: SLSQP\n",
      "Optimization successful.\n",
      "Optimization terminated successfully\n",
      "Objective value: 0.508\n",
      "Number of iterations: 52\n",
      "Params: 2.180 1.819 1.257 1.058 1.265 1.186 1.280 1.266 1.482 0.572 0.838 0.624 1.893 1.320 2.156 7.385 0.793 5.067 0.347 3.148 1.357 4.954 0.172 0.082 2.352 3.430 0.120 0.467 3.256 3.951 0.448\n"
     ]
    }
   ],
   "source": [
    "# Inspecting optimization information by print(res_opt):\n",
    "print(res_opt)"
   ]
  },
  {
   "cell_type": "code",
   "execution_count": 50,
   "id": "ca173605-f89c-4ff9-aaf4-bfdb575d4a3c",
   "metadata": {},
   "outputs": [
    {
     "name": "stdout",
     "output_type": "stream",
     "text": [
      "     lval  op   rval  Estimate  Std. Err    z-value   p-value\n",
      "0   dem60   ~  ind60  1.482379  0.399024   3.715017  0.000203\n",
      "1   dem65   ~  ind60  0.571912  0.221383   2.583364  0.009784\n",
      "2   dem65   ~  dem60  0.837574  0.098446   8.507992       0.0\n",
      "3      x1   ~  ind60  1.000000         -          -         -\n",
      "4      x2   ~  ind60  2.180494  0.138565  15.736254       0.0\n",
      "5      x3   ~  ind60  1.818546  0.151993   11.96465       0.0\n",
      "6      y1   ~  dem60  1.000000         -          -         -\n",
      "7      y2   ~  dem60  1.256819  0.182687   6.879647       0.0\n",
      "8      y3   ~  dem60  1.058174  0.151521   6.983699       0.0\n",
      "9      y4   ~  dem60  1.265186  0.145151   8.716344       0.0\n",
      "10     y5   ~  dem65  1.000000         -          -         -\n",
      "11     y6   ~  dem65  1.185743  0.168908   7.020032       0.0\n",
      "12     y7   ~  dem65  1.279717  0.159996    7.99841       0.0\n",
      "13     y8   ~  dem65  1.266084  0.158238   8.001141       0.0\n",
      "14  dem65  ~~  dem65  0.172210  0.214861   0.801494  0.422846\n",
      "15  dem60  ~~  dem60  3.950849  0.920451   4.292296  0.000018\n",
      "16  ind60  ~~  ind60  0.448321  0.086677   5.172345       0.0\n",
      "17     y1  ~~     y5  0.624423  0.358435   1.742083  0.081494\n",
      "18     y1  ~~     y1  1.892743   0.44456   4.257565  0.000021\n",
      "19     y2  ~~     y4  1.319589   0.70268   1.877937   0.06039\n",
      "20     y2  ~~     y6  2.156164  0.734155   2.936934  0.003315\n",
      "21     y2  ~~     y2  7.385292  1.375671   5.368501       0.0\n",
      "22     y3  ~~     y7  0.793329  0.607642   1.305585  0.191694\n",
      "23     y3  ~~     y3  5.066628  0.951722   5.323646       0.0\n",
      "24     y4  ~~     y8  0.347222  0.442234   0.785154  0.432363\n",
      "25     y4  ~~     y4  3.147911  0.738841   4.260605   0.00002\n",
      "26     y6  ~~     y8  1.357037    0.5685   2.387047  0.016984\n",
      "27     y6  ~~     y6  4.954364  0.914284   5.418843       0.0\n",
      "28     x1  ~~     x1  0.081573  0.019495   4.184317  0.000029\n",
      "29     y5  ~~     y5  2.351910  0.480369   4.896044  0.000001\n",
      "30     y7  ~~     y7  3.430032  0.712732   4.812512  0.000001\n",
      "31     x2  ~~     x2  0.119894  0.069747   1.718973  0.085619\n",
      "32     x3  ~~     x3  0.466732  0.090168   5.176276       0.0\n",
      "33     y8  ~~     y8  3.256389   0.69504   4.685182  0.000003\n"
     ]
    }
   ],
   "source": [
    "# Printing parameter estimates by print(estimates):\n",
    "print(estimates)"
   ]
  },
  {
   "cell_type": "markdown",
   "id": "db73f050-25c5-460e-abd1-d353e106c519",
   "metadata": {},
   "source": [
    "# Syntax and Constraints\n",
    "Naming and fixing parameters"
   ]
  },
  {
   "cell_type": "raw",
   "id": "210b0699-4c00-4cdc-a20d-89ca3669e06c",
   "metadata": {},
   "source": [
    "from semopy import Model\n",
    "from semopy.examples import multivariate_regression\n",
    "\n",
    "from semopy import Model\n",
    "from semopy.examples import \\\n",
    "     multivariate_regression\n",
    "\n",
    "desc = '''y ~ x1 + 6*x2 + x3'''\n",
    "data = multivariate_regression.get_data()\n",
    "mod = Model(desc)\n",
    "mod.fit(data)\n",
    "print(mod.inspect())\n",
    "\n",
    "Output:\n",
    "\n",
    "lval  op rval  Estimate   Std. Err  z-value      p-value\n",
    "0    y   ~   x1  1.936024  0.0584811  33.1051            0\n",
    "1    y   ~   x2  6.000000          -        -            -\n",
    "2    y   ~   x3 -9.778350   0.107633 -90.8491            0\n",
    "3    y  ~~    y  1.075682   0.152124  7.07107  1.53744e-12"
   ]
  },
  {
   "cell_type": "markdown",
   "id": "411b3777-759e-48c8-828d-abe9fdd485c1",
   "metadata": {},
   "source": [
    "# Operations and constraints"
   ]
  },
  {
   "cell_type": "code",
   "execution_count": 69,
   "id": "689e6922-99fc-4555-afc6-8df621d16114",
   "metadata": {
    "collapsed": true,
    "jupyter": {
     "outputs_hidden": true
    },
    "tags": []
   },
   "outputs": [
    {
     "ename": "KeyError",
     "evalue": "'Variables y are missing from data.'",
     "output_type": "error",
     "traceback": [
      "\u001b[1;31m---------------------------------------------------------------------------\u001b[0m",
      "\u001b[1;31mKeyError\u001b[0m                                  Traceback (most recent call last)",
      "\u001b[1;32m<ipython-input-69-3a3facf636c2>\u001b[0m in \u001b[0;36m<module>\u001b[1;34m\u001b[0m\n\u001b[0;32m      7\u001b[0m \u001b[0mdata\u001b[0m \u001b[1;33m=\u001b[0m \u001b[0mmultivariate_regression\u001b[0m\u001b[1;33m.\u001b[0m\u001b[0mget_data\u001b[0m\u001b[1;33m(\u001b[0m\u001b[1;33m)\u001b[0m\u001b[1;33m\u001b[0m\u001b[1;33m\u001b[0m\u001b[0m\n\u001b[0;32m      8\u001b[0m \u001b[0mmod\u001b[0m \u001b[1;33m=\u001b[0m \u001b[0mModel\u001b[0m\u001b[1;33m(\u001b[0m\u001b[0mdesc\u001b[0m\u001b[1;33m)\u001b[0m\u001b[1;33m\u001b[0m\u001b[1;33m\u001b[0m\u001b[0m\n\u001b[1;32m----> 9\u001b[1;33m \u001b[0mmod\u001b[0m\u001b[1;33m.\u001b[0m\u001b[0mfit\u001b[0m\u001b[1;33m(\u001b[0m\u001b[0mdata\u001b[0m\u001b[1;33m)\u001b[0m\u001b[1;33m\u001b[0m\u001b[1;33m\u001b[0m\u001b[0m\n\u001b[0m\u001b[0;32m     10\u001b[0m \u001b[0mprint\u001b[0m\u001b[1;33m(\u001b[0m\u001b[0mmod\u001b[0m\u001b[1;33m.\u001b[0m\u001b[0minspect\u001b[0m\u001b[1;33m(\u001b[0m\u001b[1;33m)\u001b[0m\u001b[1;33m)\u001b[0m\u001b[1;33m\u001b[0m\u001b[1;33m\u001b[0m\u001b[0m\n",
      "\u001b[1;32m~\\anaconda3\\lib\\site-packages\\semopy\\model.py\u001b[0m in \u001b[0;36mfit\u001b[1;34m(self, data, cov, obj, solver, groups, clean_slate, regularization, n_samples, **kwargs)\u001b[0m\n\u001b[0;32m   1097\u001b[0m \u001b[1;33m\u001b[0m\u001b[0m\n\u001b[0;32m   1098\u001b[0m         \"\"\"\n\u001b[1;32m-> 1099\u001b[1;33m         self.load(data=data, cov=cov, groups=groups,\n\u001b[0m\u001b[0;32m   1100\u001b[0m                   clean_slate=clean_slate, n_samples=n_samples)\n\u001b[0;32m   1101\u001b[0m         \u001b[1;32mif\u001b[0m \u001b[0mobj\u001b[0m \u001b[1;33m==\u001b[0m \u001b[1;34m'FIML'\u001b[0m\u001b[1;33m:\u001b[0m\u001b[1;33m\u001b[0m\u001b[1;33m\u001b[0m\u001b[0m\n",
      "\u001b[1;32m~\\anaconda3\\lib\\site-packages\\semopy\\model.py\u001b[0m in \u001b[0;36mload\u001b[1;34m(self, data, cov, groups, clean_slate, n_samples)\u001b[0m\n\u001b[0;32m   1036\u001b[0m         \u001b[1;32mif\u001b[0m \u001b[0mmissing\u001b[0m\u001b[1;33m:\u001b[0m\u001b[1;33m\u001b[0m\u001b[1;33m\u001b[0m\u001b[0m\n\u001b[0;32m   1037\u001b[0m             \u001b[0mt\u001b[0m \u001b[1;33m=\u001b[0m \u001b[1;34m', '\u001b[0m\u001b[1;33m.\u001b[0m\u001b[0mjoin\u001b[0m\u001b[1;33m(\u001b[0m\u001b[0mmissing\u001b[0m\u001b[1;33m)\u001b[0m\u001b[1;33m\u001b[0m\u001b[1;33m\u001b[0m\u001b[0m\n\u001b[1;32m-> 1038\u001b[1;33m             \u001b[1;32mraise\u001b[0m \u001b[0mKeyError\u001b[0m\u001b[1;33m(\u001b[0m\u001b[1;34m'Variables {} are missing from data.'\u001b[0m\u001b[1;33m.\u001b[0m\u001b[0mformat\u001b[0m\u001b[1;33m(\u001b[0m\u001b[0mt\u001b[0m\u001b[1;33m)\u001b[0m\u001b[1;33m)\u001b[0m\u001b[1;33m\u001b[0m\u001b[1;33m\u001b[0m\u001b[0m\n\u001b[0m\u001b[0;32m   1039\u001b[0m         \u001b[1;32mif\u001b[0m \u001b[0mdata\u001b[0m \u001b[1;32mis\u001b[0m \u001b[1;32mnot\u001b[0m \u001b[1;32mNone\u001b[0m\u001b[1;33m:\u001b[0m\u001b[1;33m\u001b[0m\u001b[1;33m\u001b[0m\u001b[0m\n\u001b[0;32m   1040\u001b[0m             \u001b[0mself\u001b[0m\u001b[1;33m.\u001b[0m\u001b[0mload_data\u001b[0m\u001b[1;33m(\u001b[0m\u001b[0mdata\u001b[0m\u001b[1;33m,\u001b[0m \u001b[0mcovariance\u001b[0m\u001b[1;33m=\u001b[0m\u001b[0mcov\u001b[0m\u001b[1;33m,\u001b[0m \u001b[0mgroups\u001b[0m\u001b[1;33m=\u001b[0m\u001b[0mgroups\u001b[0m\u001b[1;33m)\u001b[0m\u001b[1;33m\u001b[0m\u001b[1;33m\u001b[0m\u001b[0m\n",
      "\u001b[1;31mKeyError\u001b[0m: 'Variables y are missing from data.'"
     ]
    }
   ],
   "source": [
    "# Parameters can be fixed to a constant value by specifying a float multiplier:\n",
    "from semopy import Model\n",
    "from semopy.examples import \\\n",
    "     multivariate_regression\n",
    "\n",
    "desc = '''y ~ x1 + 6*x2 + x3'''\n",
    "data = multivariate_regression.get_data()\n",
    "mod = Model(desc)\n",
    "mod.fit(data)\n",
    "print(mod.inspect())"
   ]
  },
  {
   "cell_type": "markdown",
   "id": "9b937fb2-cda8-4867-8a66-eb7338bafaca",
   "metadata": {},
   "source": [
    "# Prediction and imputation"
   ]
  },
  {
   "cell_type": "code",
   "execution_count": 70,
   "id": "a75bff02-a727-4e4d-846f-94c68339046a",
   "metadata": {
    "jupyter": {
     "source_hidden": true
    },
    "tags": []
   },
   "outputs": [
    {
     "name": "stdout",
     "output_type": "stream",
     "text": [
      "2.17%\n"
     ]
    }
   ],
   "source": [
    "from semopy.examples import political_democracy\n",
    "from semopy import ModelMeans\n",
    "import numpy as np\n",
    "\n",
    "desc = political_democracy.get_model()\n",
    "data = political_democracy.get_data()\n",
    "\n",
    "i, v = 0, 'x1'\n",
    "x = data[v].values[i]\n",
    "\n",
    "data[v].values[i] = float('nan')\n",
    "model = ModelMeans(desc)\n",
    "model.fit(data, )\n",
    "preds = model.predict(data)\n",
    "diff = np.abs((x - preds[v].values[i])/x)\n",
    "print('{:.2f}%'.format(diff * 100))"
   ]
  },
  {
   "cell_type": "markdown",
   "id": "8e07af7b-4f27-4d45-945c-f9a2a6e18d90",
   "metadata": {},
   "source": [
    "# Factor scores"
   ]
  },
  {
   "cell_type": "code",
   "execution_count": 71,
   "id": "304bd9ec-0346-44f5-adc0-423f271a5080",
   "metadata": {},
   "outputs": [
    {
     "name": "stdout",
     "output_type": "stream",
     "text": [
      "      dem60     dem65     ind60\n",
      "0 -2.539528 -2.368729 -0.536216\n",
      "1 -2.345362 -1.513466  0.151093\n",
      "2  2.925690  2.998107  0.740218\n",
      "3  2.883632  3.021921  1.244115\n",
      "4  2.428383  2.422393  0.831255\n"
     ]
    }
   ],
   "source": [
    "from semopy.examples import political_democracy\n",
    "from semopy import Model\n",
    "\n",
    "desc = political_democracy.get_model()\n",
    "data = political_democracy.get_data()\n",
    "\n",
    "model = Model(desc)\n",
    "model.fit(data)\n",
    "factors = model.predict_factors(data)\n",
    "print(factors.head())"
   ]
  },
  {
   "cell_type": "raw",
   "id": "b4668079-c916-430b-a975-0f23dba05f51",
   "metadata": {},
   "source": [
    "# predict_factors is very versatile and general and can be used with any semopy-compatible model.\n"
   ]
  }
 ],
 "metadata": {
  "kernelspec": {
   "display_name": "Python 3",
   "language": "python",
   "name": "python3"
  },
  "language_info": {
   "codemirror_mode": {
    "name": "ipython",
    "version": 3
   },
   "file_extension": ".py",
   "mimetype": "text/x-python",
   "name": "python",
   "nbconvert_exporter": "python",
   "pygments_lexer": "ipython3",
   "version": "3.8.8"
  },
  "toc-autonumbering": true
 },
 "nbformat": 4,
 "nbformat_minor": 5
}
